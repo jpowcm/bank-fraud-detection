{
  "nbformat": 4,
  "nbformat_minor": 0,
  "metadata": {
    "colab": {
      "provenance": []
    },
    "kernelspec": {
      "name": "python3",
      "display_name": "Python 3"
    },
    "language_info": {
      "name": "python"
    }
  },
  "cells": [
    {
      "cell_type": "markdown",
      "source": [
        "# Import Statements"
      ],
      "metadata": {
        "id": "UhiuXquQakPJ"
      }
    },
    {
      "cell_type": "code",
      "source": [
        "import pandas as pd\n",
        "import numpy as np\n",
        "import matplotlib.pyplot as plt\n",
        "import seaborn as sns\n",
        "from sklearn.model_selection import train_test_split\n",
        "from imblearn.over_sampling import SMOTE\n",
        "from collections import Counter"
      ],
      "metadata": {
        "id": "00x3fTnnaoBk"
      },
      "execution_count": null,
      "outputs": []
    },
    {
      "cell_type": "markdown",
      "source": [
        "# Load Dataset"
      ],
      "metadata": {
        "id": "z4Jj1AzRa1wt"
      }
    },
    {
      "cell_type": "code",
      "source": [
        "from google.colab import files\n",
        "# uploaded = files.upload()\n",
        "\n",
        "df = pd.read_csv(\"Base.csv\")"
      ],
      "metadata": {
        "id": "juDVXR8UaqlW"
      },
      "execution_count": null,
      "outputs": []
    },
    {
      "cell_type": "markdown",
      "source": [
        "# Data Cleaning"
      ],
      "metadata": {
        "id": "24JQifcrbEKZ"
      }
    },
    {
      "cell_type": "markdown",
      "source": [
        "## Check for missing values"
      ],
      "metadata": {
        "id": "aBQnzGMHbSH2"
      }
    },
    {
      "cell_type": "code",
      "source": [
        "print(df.isna().sum())"
      ],
      "metadata": {
        "id": "5yeE0gpMbGu9",
        "colab": {
          "base_uri": "https://localhost:8080/"
        },
        "outputId": "40737c8a-662f-4a8a-9f06-7fe5dd561316"
      },
      "execution_count": null,
      "outputs": [
        {
          "output_type": "stream",
          "name": "stdout",
          "text": [
            "fraud_bool                          0\n",
            "income                              0\n",
            "name_email_similarity               0\n",
            "prev_address_months_count           0\n",
            "current_address_months_count        0\n",
            "customer_age                        0\n",
            "days_since_request                  0\n",
            "intended_balcon_amount              0\n",
            "payment_type                        0\n",
            "zip_count_4w                        0\n",
            "velocity_6h                         0\n",
            "velocity_24h                        0\n",
            "velocity_4w                         0\n",
            "bank_branch_count_8w                0\n",
            "date_of_birth_distinct_emails_4w    0\n",
            "employment_status                   0\n",
            "credit_risk_score                   0\n",
            "email_is_free                       0\n",
            "housing_status                      0\n",
            "phone_home_valid                    0\n",
            "phone_mobile_valid                  0\n",
            "bank_months_count                   0\n",
            "has_other_cards                     0\n",
            "proposed_credit_limit               0\n",
            "foreign_request                     0\n",
            "source                              0\n",
            "session_length_in_minutes           0\n",
            "device_os                           0\n",
            "keep_alive_session                  0\n",
            "device_distinct_emails_8w           0\n",
            "device_fraud_count                  0\n",
            "month                               0\n",
            "dtype: int64\n"
          ]
        }
      ]
    },
    {
      "cell_type": "markdown",
      "source": [
        "## Drop columns"
      ],
      "metadata": {
        "id": "9AXcDUe_bX_a"
      }
    },
    {
      "cell_type": "code",
      "source": [
        "df = df.drop('device_fraud_count', axis=1)\n",
        "X = df.drop(\"fraud_bool\", axis=1)\n",
        "y = df[\"fraud_bool\"]"
      ],
      "metadata": {
        "id": "sNBw4eb8bb0b"
      },
      "execution_count": null,
      "outputs": []
    },
    {
      "cell_type": "markdown",
      "source": [
        "## Train-val-test split"
      ],
      "metadata": {
        "id": "ZryEtSbSbea3"
      }
    },
    {
      "cell_type": "code",
      "source": [
        "# Training: months 1–6 (values 0-5)\n",
        "X_train = df[df['month'].isin([0,1,2,3,4,5])].drop(columns=['fraud_bool'])\n",
        "y_train = df[df['month'].isin([0,1,2,3,4,5])]['fraud_bool']\n",
        "\n",
        "# Validation: month 7 (value 6)\n",
        "X_val = df[df['month'] == 6].drop(columns=['fraud_bool'])\n",
        "y_val = df[df['month'] == 6]['fraud_bool']\n",
        "\n",
        "# Test: month 8 (value 7)\n",
        "X_test = df[df['month'] == 7].drop(columns=['fraud_bool'])\n",
        "y_test = df[df['month'] == 7]['fraud_bool']"
      ],
      "metadata": {
        "id": "RU4cit6jbhHf"
      },
      "execution_count": null,
      "outputs": []
    },
    {
      "cell_type": "code",
      "source": [
        "print(\"Train Shape: \" + str(X_train.shape))\n",
        "print(\"Validation Shape: \" + str(X_val.shape))\n",
        "print(\"Test Shape: \" + str(X_test.shape))"
      ],
      "metadata": {
        "colab": {
          "base_uri": "https://localhost:8080/"
        },
        "id": "S6iZ_PMzI_GL",
        "outputId": "e4331da2-7216-4b8a-e0c7-b8a0ce96777e"
      },
      "execution_count": null,
      "outputs": [
        {
          "output_type": "stream",
          "name": "stdout",
          "text": [
            "Train Shape: (794989, 30)\n",
            "Validation Shape: (108168, 30)\n",
            "Test Shape: (96843, 30)\n"
          ]
        }
      ]
    },
    {
      "cell_type": "markdown",
      "source": [
        "# Feature Engineering"
      ],
      "metadata": {
        "id": "FnRA4Vm2bqeu"
      }
    },
    {
      "cell_type": "markdown",
      "source": [
        "### One-hot encoding for categorical variables"
      ],
      "metadata": {
        "id": "ouFcz9XSckdt"
      }
    },
    {
      "cell_type": "code",
      "source": [
        "X_train = pd.get_dummies(X_train, columns=['customer_age'], prefix='age', drop_first=False)\n",
        "X_val = pd.get_dummies(X_val, columns=['customer_age'], prefix='age', drop_first=False)\n",
        "X_test = pd.get_dummies(X_test, columns=['customer_age'], prefix='age', drop_first=False)\n",
        "\n",
        "# Align validation and test columns with training columns\n",
        "X_val = X_val.reindex(columns=X_train.columns, fill_value=0)\n",
        "X_test = X_test.reindex(columns=X_train.columns, fill_value=0)\n",
        "\n",
        "# Check dataset shapes\n",
        "print(\"Train Shape: \" + str(X_train.shape))\n",
        "print(\"Validation Shape: \" + str(X_val.shape))\n",
        "print(\"Test Shape: \" + str(X_test.shape))"
      ],
      "metadata": {
        "id": "zsB-3m2xcFAM",
        "colab": {
          "base_uri": "https://localhost:8080/"
        },
        "outputId": "f16f5ac5-dc08-4187-c47d-965b846a0e42"
      },
      "execution_count": null,
      "outputs": [
        {
          "output_type": "stream",
          "name": "stdout",
          "text": [
            "Train Shape: (794989, 38)\n",
            "Validation Shape: (108168, 38)\n",
            "Test Shape: (96843, 38)\n"
          ]
        }
      ]
    },
    {
      "cell_type": "code",
      "source": [
        "# One-hot encode\n",
        "X_train = pd.get_dummies(X_train, columns=['payment_type'], prefix='payment', drop_first=False)\n",
        "X_val = pd.get_dummies(X_val, columns=['payment_type'], prefix='payment', drop_first=False)\n",
        "X_test = pd.get_dummies(X_test, columns=['payment_type'], prefix='payment', drop_first=False)\n",
        "\n",
        "# Align columns so validation/test match training\n",
        "X_val = X_val.reindex(columns=X_train.columns, fill_value=0)\n",
        "X_test = X_test.reindex(columns=X_train.columns, fill_value=0)\n",
        "\n",
        "# Check dataset shapes\n",
        "print(\"Train Shape: \" + str(X_train.shape))\n",
        "print(\"Validation Shape: \" + str(X_val.shape))\n",
        "print(\"Test Shape: \" + str(X_test.shape))"
      ],
      "metadata": {
        "id": "xBS5SF0hcOLL",
        "colab": {
          "base_uri": "https://localhost:8080/"
        },
        "outputId": "3e872493-983e-4cd0-c84f-354ef82055b0"
      },
      "execution_count": null,
      "outputs": [
        {
          "output_type": "stream",
          "name": "stdout",
          "text": [
            "Train Shape: (794989, 42)\n",
            "Validation Shape: (108168, 42)\n",
            "Test Shape: (96843, 42)\n"
          ]
        }
      ]
    },
    {
      "cell_type": "code",
      "source": [
        "# One-hot encode\n",
        "X_train = pd.get_dummies(X_train, columns=['employment_status'], prefix='employment', drop_first=False)\n",
        "X_val = pd.get_dummies(X_val, columns=['employment_status'], prefix='employment', drop_first=False)\n",
        "X_test = pd.get_dummies(X_test, columns=['employment_status'], prefix='employment', drop_first=False)\n",
        "\n",
        "# Align columns so validation/test match training\n",
        "X_val = X_val.reindex(columns=X_train.columns, fill_value=0)\n",
        "X_test = X_test.reindex(columns=X_train.columns, fill_value=0)\n",
        "\n",
        "# Check dataset shapes\n",
        "print(\"Train Shape: \" + str(X_train.shape))\n",
        "print(\"Validation Shape: \" + str(X_val.shape))\n",
        "print(\"Test Shape: \" + str(X_test.shape))"
      ],
      "metadata": {
        "id": "m4GeYs_RcVxG",
        "colab": {
          "base_uri": "https://localhost:8080/"
        },
        "outputId": "eb82d8fb-5ade-4f5e-a9a2-5f060c9c9c49"
      },
      "execution_count": null,
      "outputs": [
        {
          "output_type": "stream",
          "name": "stdout",
          "text": [
            "Train Shape: (794989, 48)\n",
            "Validation Shape: (108168, 48)\n",
            "Test Shape: (96843, 48)\n"
          ]
        }
      ]
    },
    {
      "cell_type": "code",
      "source": [
        "X_train = pd.get_dummies(X_train, columns=['housing_status'], prefix='housing', drop_first=False)\n",
        "X_val = pd.get_dummies(X_val, columns=['housing_status'], prefix='housing', drop_first=False)\n",
        "X_test = pd.get_dummies(X_test, columns=['housing_status'], prefix='housing', drop_first=False)\n",
        "\n",
        "# Align columns so validation/test match training\n",
        "X_val = X_val.reindex(columns=X_train.columns, fill_value=0)\n",
        "X_test = X_test.reindex(columns=X_train.columns, fill_value=0)\n",
        "\n",
        "# Check dataset shapes\n",
        "print(\"Train Shape: \" + str(X_train.shape))\n",
        "print(\"Validation Shape: \" + str(X_val.shape))\n",
        "print(\"Test Shape: \" + str(X_test.shape))"
      ],
      "metadata": {
        "colab": {
          "base_uri": "https://localhost:8080/"
        },
        "id": "-BWij2fqKrWQ",
        "outputId": "217d0ffb-871f-42e5-d92e-22883035fbe4"
      },
      "execution_count": null,
      "outputs": [
        {
          "output_type": "stream",
          "name": "stdout",
          "text": [
            "Train Shape: (794989, 54)\n",
            "Validation Shape: (108168, 54)\n",
            "Test Shape: (96843, 54)\n"
          ]
        }
      ]
    },
    {
      "cell_type": "code",
      "source": [
        "X_train = pd.get_dummies(X_train, columns=['source'], prefix='source', drop_first=False)\n",
        "X_val = pd.get_dummies(X_val, columns=['source'], prefix='source', drop_first=False)\n",
        "X_test = pd.get_dummies(X_test, columns=['source'], prefix='source', drop_first=False)\n",
        "\n",
        "# Align columns so validation/test match training\n",
        "X_val = X_val.reindex(columns=X_train.columns, fill_value=0)\n",
        "X_test = X_test.reindex(columns=X_train.columns, fill_value=0)\n",
        "\n",
        "# Check dataset shapes\n",
        "print(\"Train Shape: \" + str(X_train.shape))\n",
        "print(\"Validation Shape: \" + str(X_val.shape))\n",
        "print(\"Test Shape: \" + str(X_test.shape))"
      ],
      "metadata": {
        "colab": {
          "base_uri": "https://localhost:8080/"
        },
        "id": "dFqNQ4k8MhvX",
        "outputId": "313aa342-7fe4-47bf-ce67-3500d83c8c33"
      },
      "execution_count": null,
      "outputs": [
        {
          "output_type": "stream",
          "name": "stdout",
          "text": [
            "Train Shape: (794989, 55)\n",
            "Validation Shape: (108168, 55)\n",
            "Test Shape: (96843, 55)\n"
          ]
        }
      ]
    },
    {
      "cell_type": "code",
      "source": [
        "X_train = pd.get_dummies(X_train, columns=['device_os'], prefix='device', drop_first=False)\n",
        "X_val = pd.get_dummies(X_val, columns=['device_os'], prefix='device', drop_first=False)\n",
        "X_test = pd.get_dummies(X_test, columns=['device_os'], prefix='device', drop_first=False)\n",
        "\n",
        "# Align columns so validation/test match training\n",
        "X_val = X_val.reindex(columns=X_train.columns, fill_value=0)\n",
        "X_test = X_test.reindex(columns=X_train.columns, fill_value=0)\n",
        "\n",
        "# Check dataset shapes\n",
        "print(\"Train Shape: \" + str(X_train.shape))\n",
        "print(\"Validation Shape: \" + str(X_val.shape))\n",
        "print(\"Test Shape: \" + str(X_test.shape))"
      ],
      "metadata": {
        "colab": {
          "base_uri": "https://localhost:8080/"
        },
        "id": "NqGYIqCZM9CD",
        "outputId": "e66e7608-a372-48d2-8908-9a45b182445e"
      },
      "execution_count": null,
      "outputs": [
        {
          "output_type": "stream",
          "name": "stdout",
          "text": [
            "Train Shape: (794989, 59)\n",
            "Validation Shape: (108168, 59)\n",
            "Test Shape: (96843, 59)\n"
          ]
        }
      ]
    },
    {
      "cell_type": "markdown",
      "source": [
        "### Log transformation for skewed features"
      ],
      "metadata": {
        "id": "wVboPw3Sc3p0"
      }
    },
    {
      "cell_type": "code",
      "source": [
        "X_train['days_since_request_log'] = np.log1p(X_train['days_since_request'])\n",
        "X_val['days_since_request_log'] = np.log1p(X_val['days_since_request'])\n",
        "X_test['days_since_request_log'] = np.log1p(X_test['days_since_request'])"
      ],
      "metadata": {
        "id": "oM8n-IMqcG5n"
      },
      "execution_count": null,
      "outputs": []
    },
    {
      "cell_type": "code",
      "source": [
        "X_train['intended_balcon_amount_clean'] = X_train['intended_balcon_amount'].apply(lambda x: x if x >= 0 else -1)\n",
        "X_val['intended_balcon_amount_clean'] = X_val['intended_balcon_amount'].apply(lambda x: x if x >= 0 else -1)\n",
        "X_test['intended_balcon_amount_clean'] = X_test['intended_balcon_amount'].apply(lambda x: x if x >= 0 else -1)\n",
        "\n",
        "# Optional: log-transform only positive values\n",
        "X_train['intended_balcon_amount_log'] = X_train['intended_balcon_amount_clean'].apply(lambda x: np.log1p(x) if x > 0 else 0)\n",
        "X_val['intended_balcon_amount_log'] = X_val['intended_balcon_amount_clean'].apply(lambda x: np.log1p(x) if x > 0 else 0)\n",
        "X_test['intended_balcon_amount_log'] = X_test['intended_balcon_amount_clean'].apply(lambda x: np.log1p(x) if x > 0 else 0)\n",
        "\n",
        "# Drop original (not cleaned) column\n",
        "X_train = X_train.drop('intended_balcon_amount', axis=1)\n",
        "X_val = X_val.drop('intended_balcon_amount', axis=1)\n",
        "X_test = X_test.drop('intended_balcon_amount', axis=1)"
      ],
      "metadata": {
        "id": "sWn2fupLcLbY"
      },
      "execution_count": null,
      "outputs": []
    },
    {
      "cell_type": "code",
      "source": [
        "X_train['zip_count_4w_log'] = np.log1p(X_train['zip_count_4w'])\n",
        "X_val['zip_count_4w_log'] = np.log1p(X_val['zip_count_4w'])\n",
        "X_test['zip_count_4w_log'] = np.log1p(X_test['zip_count_4w'])"
      ],
      "metadata": {
        "id": "GQogDg2OcQao"
      },
      "execution_count": null,
      "outputs": []
    },
    {
      "cell_type": "code",
      "source": [
        "for df in [X_train, X_val, X_test]:\n",
        "    df['velocity_24h_log'] = np.log1p(df['velocity_24h'])\n",
        "    df['velocity_4w_log'] = np.log1p(df['velocity_4w'])"
      ],
      "metadata": {
        "id": "vVtNwcoxcScU"
      },
      "execution_count": null,
      "outputs": []
    },
    {
      "cell_type": "code",
      "source": [
        "X_train['date_of_birth_distinct_emails_4w_log'] = np.log1p(X_train['date_of_birth_distinct_emails_4w'])\n",
        "X_val['date_of_birth_distinct_emails_4w_log'] = np.log1p(X_val['date_of_birth_distinct_emails_4w'])\n",
        "X_test['date_of_birth_distinct_emails_4w_log'] = np.log1p(X_test['date_of_birth_distinct_emails_4w'])"
      ],
      "metadata": {
        "id": "WVvfGILIcUCr"
      },
      "execution_count": null,
      "outputs": []
    },
    {
      "cell_type": "code",
      "source": [
        "X_train['session_length_in_minutes_cleaned'] = X_train['session_length_in_minutes'].apply(lambda x: x if x >= 0 else -1)\n",
        "X_val['session_length_in_minutes_cleaned'] = X_val['session_length_in_minutes'].apply(lambda x: x if x >= 0 else -1)\n",
        "X_test['session_length_in_minutes_cleaned'] = X_test['session_length_in_minutes'].apply(lambda x: x if x >= 0 else -1)\n",
        "\n",
        "X_train['session_length_in_minutes_log'] = X_train['session_length_in_minutes_cleaned'].apply(lambda x: np.log1p(x) if x > 0 else 0)\n",
        "X_val['session_length_in_minutes_log'] = X_val['session_length_in_minutes_cleaned'].apply(lambda x: np.log1p(x) if x > 0 else 0)\n",
        "X_test['session_length_in_minutes_log'] = X_test['session_length_in_minutes_cleaned'].apply(lambda x: np.log1p(x) if x > 0 else 0)\n",
        "\n",
        "# Drop original (not cleaned) column\n",
        "X_train = X_train.drop('session_length_in_minutes', axis=1)\n",
        "X_val = X_val.drop('session_length_in_minutes', axis=1)\n",
        "X_test = X_test.drop('session_length_in_minutes', axis=1)"
      ],
      "metadata": {
        "id": "DOT20oHgNc3O"
      },
      "execution_count": null,
      "outputs": []
    },
    {
      "cell_type": "code",
      "source": [
        "# Check shapes\n",
        "print(\"Train Shape: \" + str(X_train.shape))\n",
        "print(\"Validation Shape: \" + str(X_val.shape))\n",
        "print(\"Test Shape: \" + str(X_test.shape))"
      ],
      "metadata": {
        "colab": {
          "base_uri": "https://localhost:8080/"
        },
        "id": "c27GK1HZOMOw",
        "outputId": "1659e290-1ba3-4508-f7e8-ba89f0d5fd6c"
      },
      "execution_count": null,
      "outputs": [
        {
          "output_type": "stream",
          "name": "stdout",
          "text": [
            "Train Shape: (794989, 66)\n",
            "Validation Shape: (108168, 66)\n",
            "Test Shape: (96843, 66)\n"
          ]
        }
      ]
    },
    {
      "cell_type": "code",
      "source": [
        "# Check columns\n",
        "print(\"Train Columns: \" + str(X_train.columns))\n",
        "print(\"Validation Columns: \" + str(X_val.columns))\n",
        "print(\"Test Columns: \" + str(X_test.columns))"
      ],
      "metadata": {
        "colab": {
          "base_uri": "https://localhost:8080/"
        },
        "id": "Y-UG-Xl5OPD8",
        "outputId": "788f719a-726d-46c0-9060-6760e8a82b34"
      },
      "execution_count": null,
      "outputs": [
        {
          "output_type": "stream",
          "name": "stdout",
          "text": [
            "Train Columns: Index(['income', 'name_email_similarity', 'prev_address_months_count',\n",
            "       'current_address_months_count', 'days_since_request', 'zip_count_4w',\n",
            "       'velocity_6h', 'velocity_24h', 'velocity_4w', 'bank_branch_count_8w',\n",
            "       'date_of_birth_distinct_emails_4w', 'credit_risk_score',\n",
            "       'email_is_free', 'phone_home_valid', 'phone_mobile_valid',\n",
            "       'bank_months_count', 'has_other_cards', 'proposed_credit_limit',\n",
            "       'foreign_request', 'keep_alive_session', 'device_distinct_emails_8w',\n",
            "       'month', 'age_10', 'age_20', 'age_30', 'age_40', 'age_50', 'age_60',\n",
            "       'age_70', 'age_80', 'age_90', 'payment_AA', 'payment_AB', 'payment_AC',\n",
            "       'payment_AD', 'payment_AE', 'employment_CA', 'employment_CB',\n",
            "       'employment_CC', 'employment_CD', 'employment_CE', 'employment_CF',\n",
            "       'employment_CG', 'housing_BA', 'housing_BB', 'housing_BC', 'housing_BD',\n",
            "       'housing_BE', 'housing_BF', 'housing_BG', 'source_INTERNET',\n",
            "       'source_TELEAPP', 'device_linux', 'device_macintosh', 'device_other',\n",
            "       'device_windows', 'device_x11', 'days_since_request_log',\n",
            "       'intended_balcon_amount_clean', 'intended_balcon_amount_log',\n",
            "       'zip_count_4w_log', 'velocity_24h_log', 'velocity_4w_log',\n",
            "       'date_of_birth_distinct_emails_4w_log',\n",
            "       'session_length_in_minutes_cleaned', 'session_length_in_minutes_log'],\n",
            "      dtype='object')\n",
            "Validation Columns: Index(['income', 'name_email_similarity', 'prev_address_months_count',\n",
            "       'current_address_months_count', 'days_since_request', 'zip_count_4w',\n",
            "       'velocity_6h', 'velocity_24h', 'velocity_4w', 'bank_branch_count_8w',\n",
            "       'date_of_birth_distinct_emails_4w', 'credit_risk_score',\n",
            "       'email_is_free', 'phone_home_valid', 'phone_mobile_valid',\n",
            "       'bank_months_count', 'has_other_cards', 'proposed_credit_limit',\n",
            "       'foreign_request', 'keep_alive_session', 'device_distinct_emails_8w',\n",
            "       'month', 'age_10', 'age_20', 'age_30', 'age_40', 'age_50', 'age_60',\n",
            "       'age_70', 'age_80', 'age_90', 'payment_AA', 'payment_AB', 'payment_AC',\n",
            "       'payment_AD', 'payment_AE', 'employment_CA', 'employment_CB',\n",
            "       'employment_CC', 'employment_CD', 'employment_CE', 'employment_CF',\n",
            "       'employment_CG', 'housing_BA', 'housing_BB', 'housing_BC', 'housing_BD',\n",
            "       'housing_BE', 'housing_BF', 'housing_BG', 'source_INTERNET',\n",
            "       'source_TELEAPP', 'device_linux', 'device_macintosh', 'device_other',\n",
            "       'device_windows', 'device_x11', 'days_since_request_log',\n",
            "       'intended_balcon_amount_clean', 'intended_balcon_amount_log',\n",
            "       'zip_count_4w_log', 'velocity_24h_log', 'velocity_4w_log',\n",
            "       'date_of_birth_distinct_emails_4w_log',\n",
            "       'session_length_in_minutes_cleaned', 'session_length_in_minutes_log'],\n",
            "      dtype='object')\n",
            "Test Columns: Index(['income', 'name_email_similarity', 'prev_address_months_count',\n",
            "       'current_address_months_count', 'days_since_request', 'zip_count_4w',\n",
            "       'velocity_6h', 'velocity_24h', 'velocity_4w', 'bank_branch_count_8w',\n",
            "       'date_of_birth_distinct_emails_4w', 'credit_risk_score',\n",
            "       'email_is_free', 'phone_home_valid', 'phone_mobile_valid',\n",
            "       'bank_months_count', 'has_other_cards', 'proposed_credit_limit',\n",
            "       'foreign_request', 'keep_alive_session', 'device_distinct_emails_8w',\n",
            "       'month', 'age_10', 'age_20', 'age_30', 'age_40', 'age_50', 'age_60',\n",
            "       'age_70', 'age_80', 'age_90', 'payment_AA', 'payment_AB', 'payment_AC',\n",
            "       'payment_AD', 'payment_AE', 'employment_CA', 'employment_CB',\n",
            "       'employment_CC', 'employment_CD', 'employment_CE', 'employment_CF',\n",
            "       'employment_CG', 'housing_BA', 'housing_BB', 'housing_BC', 'housing_BD',\n",
            "       'housing_BE', 'housing_BF', 'housing_BG', 'source_INTERNET',\n",
            "       'source_TELEAPP', 'device_linux', 'device_macintosh', 'device_other',\n",
            "       'device_windows', 'device_x11', 'days_since_request_log',\n",
            "       'intended_balcon_amount_clean', 'intended_balcon_amount_log',\n",
            "       'zip_count_4w_log', 'velocity_24h_log', 'velocity_4w_log',\n",
            "       'date_of_birth_distinct_emails_4w_log',\n",
            "       'session_length_in_minutes_cleaned', 'session_length_in_minutes_log'],\n",
            "      dtype='object')\n"
          ]
        }
      ]
    },
    {
      "cell_type": "markdown",
      "source": [
        "### New features"
      ],
      "metadata": {
        "id": "m6JGglVHcp3D"
      }
    },
    {
      "cell_type": "code",
      "source": [
        "# total_residence_months\n",
        "X_train['total_residence_months'] = X_train['prev_address_months_count'] + X_train['current_address_months_count']\n",
        "X_val['total_residence_months'] = X_val['prev_address_months_count'] + X_val['current_address_months_count']\n",
        "X_test['total_residence_months'] = X_test['prev_address_months_count'] + X_test['current_address_months_count']"
      ],
      "metadata": {
        "id": "zsCSn0SIbsOt"
      },
      "execution_count": null,
      "outputs": []
    },
    {
      "cell_type": "code",
      "source": [
        "# velocity_ratio_24h_4w\n",
        "for df in [X_train, X_val, X_test]:\n",
        "    # Add a small epsilon to denominator to avoid division by zero\n",
        "    df['velocity_ratio_24h_4w'] = df['velocity_24h'] / (df['velocity_4w'] + 1e-6)"
      ],
      "metadata": {
        "id": "YxHDG8gMc_jz"
      },
      "execution_count": null,
      "outputs": []
    },
    {
      "cell_type": "code",
      "source": [
        "# Check shapes\n",
        "print(\"Train Shape: \" + str(X_train.shape))\n",
        "print(\"Validation Shape: \" + str(X_val.shape))\n",
        "print(\"Test Shape: \" + str(X_test.shape))"
      ],
      "metadata": {
        "colab": {
          "base_uri": "https://localhost:8080/"
        },
        "id": "CdkFwcJuO5HJ",
        "outputId": "aab3cd20-027c-458a-f58b-82bf1a060737"
      },
      "execution_count": null,
      "outputs": [
        {
          "output_type": "stream",
          "name": "stdout",
          "text": [
            "Train Shape: (794989, 68)\n",
            "Validation Shape: (108168, 68)\n",
            "Test Shape: (96843, 68)\n"
          ]
        }
      ]
    },
    {
      "cell_type": "markdown",
      "source": [
        "# SMOTE on Train Set"
      ],
      "metadata": {
        "id": "dTgksRwmPES7"
      }
    },
    {
      "cell_type": "code",
      "source": [
        "# Initialise SMOTE\n",
        "smote = SMOTE(random_state=42, sampling_strategy='auto')\n",
        "\n",
        "# Apply SMOTE\n",
        "X_train_resampled, y_train_resampled = smote.fit_resample(X_train, y_train)\n",
        "\n",
        "print(\"Before SMOTE:\", Counter(y_train))\n",
        "print(\"After SMOTE:\", Counter(y_train_resampled))"
      ],
      "metadata": {
        "colab": {
          "base_uri": "https://localhost:8080/"
        },
        "id": "HuSc16RKPLR1",
        "outputId": "5ba6fc5c-4431-4a39-c14e-4376f75030e5"
      },
      "execution_count": null,
      "outputs": [
        {
          "output_type": "stream",
          "name": "stdout",
          "text": [
            "Before SMOTE: Counter({0: 786838, 1: 8151})\n",
            "After SMOTE: Counter({0: 786838, 1: 786838})\n"
          ]
        }
      ]
    },
    {
      "cell_type": "markdown",
      "source": [
        "# Save to CSV"
      ],
      "metadata": {
        "id": "aB8FirSXPhtK"
      }
    },
    {
      "cell_type": "code",
      "source": [
        "# Training set (resampled)\n",
        "X_train_resampled.to_csv(\"X_train_resampled.csv\", index=False)\n",
        "y_train_resampled.to_csv(\"y_train_resampled.csv\", index=False)\n",
        "\n",
        "# Training set (original)\n",
        "X_train.to_csv(\"X_train.csv\", index=False)\n",
        "y_train.to_csv(\"y_train.csv\", index=False)\n",
        "\n",
        "# Validation set\n",
        "X_val.to_csv(\"X_val.csv\", index=False)\n",
        "y_val.to_csv(\"y_val.csv\", index=False)\n",
        "\n",
        "# Test set\n",
        "X_test.to_csv(\"X_test.csv\", index=False)\n",
        "y_test.to_csv(\"y_test.csv\", index=False)"
      ],
      "metadata": {
        "id": "dekQLF88PkiS"
      },
      "execution_count": null,
      "outputs": []
    }
  ]
}